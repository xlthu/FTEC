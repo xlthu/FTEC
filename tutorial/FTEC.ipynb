{
 "cells": [
  {
   "cell_type": "markdown",
   "metadata": {},
   "source": [
    "# Fault-Tolerant Quantum Error Correction using the Steane Error Correction Scheme"
   ]
  },
  {
   "cell_type": "markdown",
   "metadata": {},
   "source": [
    "## 1. Introduction\n",
    "\n",
    "Quantum computing is susceptible to environmental interference, thus quantum error correction and fault-tolerant techniques are proposed for practical quantum computation.\n",
    "\n",
    "Quantum error correction uses an error-correcting code (such as Steane Code) to protect computational qubits, which encodes the computational qubits into a bundle of qubits (called logical qubits or *codewords*) and preforms an error correction procedure in case of errors.\n",
    "\n",
    "The error correction procedure, in the theory of quantum error correction, is assumed to carry out perfectly, i.e., no more errors will happen during error correction. Obviously, it is an unrealistic assumption. To put the theory into practice, fault-tolerant techniques are proposed and applied.\n",
    "\n",
    "In this tutorial, we discuss a fault-tolerant error correction scheme, the Steane Error Correction scheme, and verify its fault-tolerant property by applying it to error correction in a faulty simulated environment. We use Steane Code as the error-correcting code in this tutorial, but the Steane Error Correction scheme can work on any Calderbank-Shor-Steane (CSS) codes.\n",
    "\n",
    "We first summarize some background knowledge about Steane Code and present a theoretical implementation of its error correcting procedure according to the theory of quantum error correction. Then we explain the error propagation problem in the theoretical implementation to reveal why fault tolerance is necessary. We next present the definition and the requirements of fault-tolerant quantum error correction, elaborate the Steane Error Correction scheme along with its Q# implementation and finally verify that the scheme satisfies the fault-tolerant requirements."
   ]
  },
  {
   "cell_type": "markdown",
   "metadata": {},
   "source": [
    "## 2. Backgroud : Steane Code\n",
    "\n",
    "Steane Code is a $[[ 7,1,3 ]]$ stabilizer code and also a CSS code. It means that Steane Code uses $7$ qubits to encode $1$ computational qubit and the minimal distance $d$ between two valid codewords is $3$. Steane Code can correct single qubit errors ($t = \\lfloor (d - 1) / 2 \\rfloor = 1$). The parity check matrix of Steane Code is \n",
    "\n",
    "$$\n",
    "\\begin{bmatrix} 1 & 0 & 1 & 0 & 1 & 0 & 1 \\\\ 0 & 1 & 1 & 0 & 0 & 1 & 1 \\\\ 0 & 0 & 0 & 1 & 1 & 1 & 1 \\end{bmatrix}\n",
    "$$\n",
    "\n",
    "For classical linear codes, the parity check matrix is used to detect the type of errors by regarding the codewords as column vectors and multiplying the parity check matrix and the vector. The procedure of detection is called *syndrome computation*, and the result of computation is a bit-string called *syndrome*. We then correct errors according to the syndrome via a mapping from syndromes to error correcting operations. We refer to the whole procedure including detecting and correcting as *error correction*.\n",
    "\n",
    "<div>\n",
    "    <img src=\"img/error-correction.png\" width=\"50%\" style=\"width: 50%; margin: 15px auto 15px auto;\"/>\n",
    "</div>\n",
    "\n",
    "For quantum stabilizer codes, replacing $1$ in the parity check matrix with $X$($Z$) and $0$ with $I$, we will get its stabilizers. The stabilizers of Steane Code are:\n",
    "\n",
    "$$\n",
    "\\begin{align}\n",
    "S_1 = X \\otimes I \\otimes X \\otimes I \\otimes X \\otimes I \\otimes X \\\\ \n",
    "S_2 = I \\otimes X \\otimes X \\otimes I \\otimes I \\otimes X \\otimes X \\\\ \n",
    "S_3 = I \\otimes I \\otimes I \\otimes X \\otimes X \\otimes X \\otimes X \\\\ \\\\\n",
    "S_4 = Z \\otimes I \\otimes Z \\otimes I \\otimes Z \\otimes I \\otimes Z \\\\ \n",
    "S_5 = I \\otimes Z \\otimes Z \\otimes I \\otimes I \\otimes Z \\otimes Z \\\\ \n",
    "S_6 = I \\otimes I \\otimes I \\otimes Z \\otimes Z \\otimes Z \\otimes Z\n",
    "\\end{align}\n",
    "$$\n",
    "\n",
    "A valid codeword is a +1-eigenstate of all the stabilizers. Measuring the codeword using these stabilizers can detect the type of errors (syndrome computation). For Steane Code, the result of measurement is a 6 bit-string (syndrome). The \n",
    "error correcting operations are of form\n",
    "\n",
    "$$ P_1 \\otimes P_2 \\otimes ... \\otimes P_n $$\n",
    "\n",
    "where $P_i$ is one of Pauli operations ($X, Y, Z$) or identity ($I$).\n",
    "\n",
    "Usually, we need a lookup table to enumerate the mapping from syndromes to error correcting operations. For Steane Code, there are $2^6 - 1 = 63$ types of errors. (All 0 syndrome means no error.) But for CSS codes, we have another view of the errors.\n",
    "\n",
    "The $Z$-generators ($S_{4,5,6}$) detects bit flip errors. Measuring these $Z$-generators yields a 3 bit-string for $2^3 - 1 = 7$ types of errors, which corresponds to a bit flip of a certain qubit of the 7-qubit codewords. Similarly, the $X$-generators detects phase flip errors. Therefore, for CSS codes, we can separate the whole error correction into two, one for correcting bit flip errors, and another for phase flip errors.\n",
    "\n",
    "Before we talk more about the error correction procedure using Steane Code, let us first learn about the basic usage of Steane Code in Q#."
   ]
  },
  {
   "cell_type": "markdown",
   "metadata": {},
   "source": [
    "### Example: Steane Code in Q# #\n",
    "\n",
    "Q# Error Correction Library encapsulates several routines about encoding, decoding, syndrome computation and error correcting with Steane Code. We discuss encoding, decoding and syndrome computation routines in this example, and we left error correcting in the following sections.\n",
    "\n",
    "#### Encoding and Decoding\n",
    "\n",
    "We first construct a non-trivial state to begin with, and encode it with Steane Code. Then we perform decode and check its state. The following code shows the procedure."
   ]
  },
  {
   "cell_type": "code",
   "execution_count": 1,
   "metadata": {},
   "outputs": [
    {
     "data": {
      "application/json": "[\"EncodeAndDecode\"]",
      "text/html": [
       "<ul><li>EncodeAndDecode</li></ul>"
      ],
      "text/plain": [
       "EncodeAndDecode"
      ]
     },
     "execution_count": 1,
     "metadata": {},
     "output_type": "execute_result"
    }
   ],
   "source": [
    "open Microsoft.Quantum.Math; // for PI\n",
    "open Microsoft.Quantum.ErrorCorrection; // import Error Correction Library\n",
    "\n",
    "operation EncodeAndDecode() : Unit {\n",
    "    // Steance Code uses 7 qubits to encode a state, we allocate one qubit `data` to represent the unencoded state,\n",
    "    // and 6 auxiliary qubits to compose a codeword\n",
    "    using ((data, auxQubits) = (Qubit(), Qubit[6])) {\n",
    "        Rx(PI() / 3.0, data); // Constuct a non-trivial state to begin with\n",
    "        \n",
    "        let code = SteaneCode(); // SteaneCode encapsulates all necessary routines.\n",
    "        let (encode, decode, syndMeasX, syndMeasZ) = code!; // Unwrap routines, we will use `encode` and `decode` here\n",
    "        \n",
    "        let codeword = encode!([data], auxQubits); // Encode data\n",
    "        \n",
    "        let (decodedData, decodedAux) = decode!(codeword); // Decode the codeword\n",
    "        \n",
    "        // Check the state\n",
    "        Adjoint Rx(PI() / 3.0, data); // Undo rotation\n",
    "        Assert([PauliZ], [data], Zero, \"State doesn't return to |0>\"); // The state should be |0>\n",
    "    }\n",
    "}"
   ]
  },
  {
   "cell_type": "code",
   "execution_count": 2,
   "metadata": {},
   "outputs": [
    {
     "data": {
      "application/json": "{\"@type\":\"tuple\"}",
      "text/plain": [
       "()"
      ]
     },
     "execution_count": 2,
     "metadata": {},
     "output_type": "execute_result"
    }
   ],
   "source": [
    "%simulate EncodeAndDecode"
   ]
  },
  {
   "cell_type": "markdown",
   "metadata": {},
   "source": [
    "Internally, the encoding operation consists of a sequence of basic unitary operations. `SteaneCodeEncoderImpl` gives the implementation. Decoding operation is the adjoint operation of encoding."
   ]
  },
  {
   "cell_type": "code",
   "execution_count": null,
   "metadata": {},
   "outputs": [],
   "source": [
    "// https://github.com/microsoft/quantumlibraries/blob/master/Standard/src/ErrorCorrection/7QubitCode.qs\n",
    "\n",
    "operation SteaneCodeEncoderImpl (data : Qubit[], scratch : Qubit[]) : Unit {\n",
    "    body (...) {\n",
    "        H(scratch[0]);\n",
    "        H(scratch[2]);\n",
    "        H(scratch[5]);\n",
    "        CNOT(data[0], scratch[4]);\n",
    "        CNOT(scratch[5], scratch[1]); // 1\n",
    "        CNOT(scratch[5], scratch[3]); // 2\n",
    "        CNOT(scratch[1], data[0]);\n",
    "        CNOT(scratch[2], scratch[4]);\n",
    "        CNOT(scratch[0], scratch[4]);\n",
    "        CNOT(scratch[4], scratch[5]); // 3\n",
    "        CNOT(scratch[2], scratch[3]);\n",
    "        CNOT(scratch[0], scratch[1]);\n",
    "    }\n",
    "\n",
    "    adjoint invert;\n",
    "}"
   ]
  },
  {
   "cell_type": "markdown",
   "metadata": {},
   "source": [
    "As we can see, encoding involves many two qubit operations (CNOT), and one qubit occurs in many CNOT operations. For example, `scratch[5]` are used 3 times (marked by `1,2,3`). Thus, if a single qubit error takes place during encoding (e.g. an error on `scratch[5]`), it may propagate to many other qubits (e.g. `scratch[1, 3, 4]`), causing multiple qubit errors which cannot be corrected by Steane Code. We will review this point later."
   ]
  },
  {
   "cell_type": "markdown",
   "metadata": {},
   "source": [
    "### Syndrome Computation\n",
    "\n",
    "As we discuss before, syndrome computation in Steane Code is performed by measuring the stabilizers. When we unwrap `SteaneCode`, we also get `syndMeasX` and `syndMeasZ`:\n",
    "\n",
    "```\n",
    "let (encode, decode, syndMeasX, syndMeasZ) = code!;\n",
    "```\n",
    "\n",
    "From the definition of `SteaneCode` below, we can confirm that the syndromes are actually computed by measurement where `xg` and `zg` corresponds to $S_{1-3}$ and $S_{4-6}$ respectively."
   ]
  },
  {
   "cell_type": "code",
   "execution_count": null,
   "metadata": {},
   "outputs": [],
   "source": [
    "// https://github.com/microsoft/quantumlibraries/blob/master/Standard/src/ErrorCorrection/7QubitCode.qs\n",
    "\n",
    "function SteaneCode () : CSS {\n",
    "    let e = EncodeOp(EncodeIntoSteaneCode);\n",
    "    let d = DecodeOp(DecodeFromSteaneCode);\n",
    "    // S1-3\n",
    "    let xg = \n",
    "        [ \n",
    "            [PauliX, PauliI, PauliX, PauliI, PauliX, PauliI, PauliX],\n",
    "            [PauliI, PauliX, PauliX, PauliI, PauliI, PauliX, PauliX],\n",
    "            [PauliI, PauliI, PauliI, PauliX, PauliX, PauliX, PauliX]\n",
    "        ];\n",
    "    // S4-6\n",
    "    let zg = \n",
    "        [ \n",
    "            [PauliZ, PauliI, PauliZ, PauliI, PauliZ, PauliI, PauliZ],\n",
    "            [PauliI, PauliZ, PauliZ, PauliI, PauliI, PauliZ, PauliZ],\n",
    "            [PauliI, PauliI, PauliI, PauliZ, PauliZ, PauliZ, PauliZ] \n",
    "        ];\n",
    "    // Measure the stabilizers\n",
    "    let sx = SyndromeMeasOp(MeasureStabilizerGenerators(xg, _, MeasureWithScratch));\n",
    "    let sz = SyndromeMeasOp(MeasureStabilizerGenerators(zg, _, MeasureWithScratch));\n",
    "    let code = CSS(e, d, sx, sz);\n",
    "    return code;\n",
    "}"
   ]
  },
  {
   "cell_type": "markdown",
   "metadata": {},
   "source": [
    "Next, we will discuss the error correction procedure."
   ]
  },
  {
   "cell_type": "markdown",
   "metadata": {},
   "source": [
    "## 3. A Theoretical Implementation of Quantum Error Correction\n",
    "\n",
    "According to the theory, we can derive a theoretical implementation, whose circuit is shown below.\n",
    "\n",
    "<div>\n",
    "    <img src=\"img/theoretical.png\" width=\"75%\" style=\"width: 75%; margin: 15px auto 15px auto;\"/>\n",
    "</div>\n",
    "\n",
    "$|q_{0-6}\\rangle$ denotes the codeword to correct. $|a_{1-3}\\rangle$ are 3 extra qubits (called *ancilla qubits*) used to measure the stabilizers $S_i$.\n",
    "\n",
    "First, we measure $S_{1-3}$ via $|a_{1-3}\\rangle$ for the syndrome to detect phase flip errors. The syndrome is then mapped ($\\cal M$) to an error correction operation, which is applied to the codeword to correct errors ($\\cal C$). Next, $|a_{1-3}\\rangle$ are reused to measure $S_{4-6}$ to perform bit flip error correction."
   ]
  },
  {
   "cell_type": "markdown",
   "metadata": {},
   "source": [
    "### Example: Quantum Error Correction using Q# Library #\n",
    "\n",
    "The theoretical implementation of quantum error correction with Steane Code is defined as `RecoverCSS` in Q# Library."
   ]
  },
  {
   "cell_type": "code",
   "execution_count": null,
   "metadata": {},
   "outputs": [],
   "source": [
    "// https://github.com/microsoft/quantumlibraries/blob/master/Standard/src/ErrorCorrection/Utils.qs\n",
    "operation RecoverCSS (code : CSS, fnX : RecoveryFn, fnZ : RecoveryFn, logicalRegister : LogicalRegister) : Unit\n",
    "{\n",
    "    let (encode, decode, syndMeasX, syndMeasZ) = code!;\n",
    "    let syndromeX = syndMeasX!(logicalRegister); // Syndrome computation: measure S1, S2, S3\n",
    "    let recoveryOpX = fnX!(syndromeX);           // Mapping (M)\n",
    "    Message($\"X: {syndromeX} → {recoveryOpX}\");\n",
    "    ApplyPauli(recoveryOpX, logicalRegister!);   // Correcting phase flip errors (C)\n",
    "    let syndromeZ = syndMeasZ!(logicalRegister); // Syndrome computation: measure S4, S5, S6\n",
    "    let recoveryOpZ = fnZ!(syndromeZ);           // Mapping (M)\n",
    "    Message($\"Z: {syndromeZ} → {recoveryOpZ}\");\n",
    "    ApplyPauli(recoveryOpZ, logicalRegister!);   // Correcting bit flip errors (C)\n",
    "}"
   ]
  },
  {
   "cell_type": "markdown",
   "metadata": {},
   "source": [
    "We show its usage by introducing a bit flip error in the `EncodeAndDecode` example of the previous section."
   ]
  },
  {
   "cell_type": "code",
   "execution_count": 3,
   "metadata": {},
   "outputs": [
    {
     "data": {
      "application/json": "[\"ErrorCorrection\"]",
      "text/html": [
       "<ul><li>ErrorCorrection</li></ul>"
      ],
      "text/plain": [
       "ErrorCorrection"
      ]
     },
     "execution_count": 3,
     "metadata": {},
     "output_type": "execute_result"
    }
   ],
   "source": [
    "open Microsoft.Quantum.Math; // for PI\n",
    "open Microsoft.Quantum.ErrorCorrection; // import Error Correction Library\n",
    "\n",
    "operation ErrorCorrection() : Unit {\n",
    "    using ((data, auxQubits) = (Qubit(), Qubit[6])) {\n",
    "        Rx(PI() / 3.0, data); // Constuct a non-trivial state to begin with\n",
    "        \n",
    "        let code = SteaneCode();\n",
    "        let (encode, decode, syndMeasX, syndMeasZ) = code!;\n",
    "        \n",
    "        let codeword = encode!([data], auxQubits); // Encode data\n",
    "        \n",
    "        X(codeword![2]); // Introduce a bit flip error on the 3rd qubit\n",
    "        \n",
    "        let (fnX, fnZ) = SteaneCodeRecoveryFns(); // Mapping functions\n",
    "        \n",
    "        RecoverCSS(code, fnX, fnZ, codeword); // Correcting the bit flip error\n",
    "        \n",
    "        let (decodedData, decodedAux) = decode!(codeword); // Decode the codeword\n",
    "        \n",
    "        // Check the state\n",
    "        Adjoint Rx(PI() / 3.0, data);\n",
    "        Assert([PauliZ], [data], Zero, \"State doesn't return to |0>\");\n",
    "    }\n",
    "}"
   ]
  },
  {
   "cell_type": "code",
   "execution_count": 4,
   "metadata": {},
   "outputs": [
    {
     "name": "stdout",
     "output_type": "stream",
     "text": [
      "X: Syndrome([Zero,Zero,Zero]) → [PauliI,PauliI,PauliI,PauliI,PauliI,PauliI,PauliI]\n",
      "Z: Syndrome([One,One,Zero]) → [PauliI,PauliI,PauliX,PauliI,PauliI,PauliI,PauliI]\n"
     ]
    },
    {
     "data": {
      "application/json": "{\"@type\":\"tuple\"}",
      "text/plain": [
       "()"
      ]
     },
     "execution_count": 4,
     "metadata": {},
     "output_type": "execute_result"
    }
   ],
   "source": [
    "%simulate ErrorCorrection"
   ]
  },
  {
   "cell_type": "markdown",
   "metadata": {},
   "source": [
    "We can see from the output that the bit flip error on the 3rd qubit is detected and corrected successfully."
   ]
  },
  {
   "cell_type": "markdown",
   "metadata": {},
   "source": [
    "## 4. The Problem of the Theoretical Implementation : Error Propagation\n",
    "\n",
    "Ancilla qubits are the most vulnerable in the theoretical implementation. To explain this, we take $S_1$ measurement for an example. The following circuit presents the measurement detail.\n",
    "\n",
    "<div>\n",
    "    <img src=\"img/s1.png\" width=\"25%\" style=\"width: 25%; margin: 15px auto 15px auto;\"/>\n",
    "</div>\n",
    "\n",
    "Since $S_1 = X \\otimes I \\otimes X \\otimes I \\otimes X \\otimes I \\otimes X$, the ancilla qubit are connected to 4 qubits $|q_{0,2,4,6}\\rangle$ via CNOT.\n",
    "\n",
    "Suppose a X error happens after H on the ancilla qubit $|a_1\\rangle$, through CNOT, the X error will propagate to the controlled qubits. In this case, $|q_{0,2,4,6}\\rangle$ each will get a bit flip.\n",
    "\n",
    "Such propagation is fatal. Steane Code can only correct single qubit errors, the propagation causes errors on three qubits, which cannot be corrected by the correction procedure. In other words, without fault-tolerant consideration, theoretical implementation may introduce more errors than it can correct, getting things worse."
   ]
  },
  {
   "cell_type": "markdown",
   "metadata": {},
   "source": [
    "## 5. Fault-tolerant Error Correction\n",
    "\n",
    "Before we elaborate the Steane Error Correction scheme, we must define fault-tolerant error correction to clarify the fault-tolerant requirements. The following definitions and the figures in the definitions are taken from [1].\n",
    "\n",
    "**Definition 1 ($r$-Filter)** An $r$*-filter* projects any input onto states with errors of weight at most $r$.\n",
    "\n",
    "In other words, $r$-filter defines a way to express a state which contains errors of weight at most $r$.\n",
    "\n",
    "**Definition 2 (Ideal Decoder)** An *ideal decoder* performs an error-free procedure that takes a encoded state, corrects any errors and gives an unencoded state.\n",
    "\n",
    "The graphical notations to represent these objects are as follows:\n",
    "\n",
    "<div>\n",
    "    <img src=\"img/notations.png\" width=\"30%\" style=\"width: 30%; margin: 15px auto 15px auto;\"/>\n",
    "</div>\n",
    "\n",
    "Thick lines represent a single codeword (7 qubits in Steane Code), while the thin line of the output from the ideal decoder represents a single unencoded qubit.\n",
    "\n",
    "**Definition 3 (Fault-tolerant Error Correction)** An error correction (EC) procedure is *fault-tolerant* if it satisfies the following two requirements:\n",
    "\n",
    "<div style=\"float: left; clear: both;\">\n",
    "    <img src=\"img/eca.png\" width=\"40%\" style=\"width: 40%; margin: 15px auto 15px auto; float:left;\"/>\n",
    "</div>\n",
    "\n",
    "<div style=\"float: left; clear: both;\">\n",
    "    <img src=\"img/ecb.png\" width=\"48%\" style=\"width: 48%; margin: 15px auto 15px auto; float:left;\"/>\n",
    "</div>\n",
    "\n",
    "The number $s$ above the EC box denotes that the weight of errors occurring during the error correction procedure is no more than $s$.\n",
    "\n",
    "EC A says that any codewords corrected by an error correction procedure with weight $s \\le t$ errors happening during the procedure will have at most $s$ weight errors away from some encoded state. Note that this does not mean that the errors are handled correctly, only that the final state is near a codeword, which may be a wrong but a valid codeword.\n",
    "\n",
    "EC B says that the codeword is corrected correctly if the total weight of errors in the input and during the correction is less than $t$. Note that the state of the output must be the correct one represented by the input.\n",
    "\n",
    "### Concretization for Steane Code\n",
    "\n",
    "We concretize the above requirements for Steane Code with $t = 1$. We assume all other parts of the whole circuit work properly, thus the codewords as the input to EC can contain no or single qubit error. Enumerating all the possible weight of errors in input and during correction, \n",
    "\n",
    "| ErrorInInput | ErrorDuringEC | Type |   |\n",
    "|--------------|---------------|------|---|\n",
    "| 0            | 0             | A    |   |\n",
    "| 0            | 1             | A    |   |\n",
    "| 1            | 0             | A    |   |\n",
    "| 1            | 1             | A    | √ |\n",
    "| 0            | 0             | B    | √ |\n",
    "| 0            | 1             | B    | √ |\n",
    "| 1            | 0             | B    | √ |\n",
    "\n",
    "(when two configurations differ only in their types, since the requirement of type B is stronger than type A, we choose that of type B)\n",
    "\n",
    "we get the following concrete requirements:\n",
    "\n",
    "<div style=\"float: left; clear: both;\">\n",
    "    <img src=\"img/requirements.png\" width=\"35%\" style=\"width: 35%; margin: 15px auto 15px auto; float:left;\"/>\n",
    "</div>\n",
    "\n",
    "EC 1 derives from EC A, saying that errors can be mitigated if their weight are not too much. EC 2, 3 and 4 derive from EC B, and they are the correctness guarantee that single errors can be corrected.\n",
    "\n",
    "We then elaborate the Steane Error Correction scheme and then verify that the scheme satisfies the four requirements."
   ]
  },
  {
   "cell_type": "markdown",
   "metadata": {},
   "source": [
    "## 6. Steane Error Correction Scheme\n",
    "\n",
    "The theoretical implementation exploits the property of Steane Code as a stabilizer code. It uses measurement of stabilizers to get syndromes and the type of errors. Instead, Steane Error Correction exploits more about the property of Steane Code as a CSS code, which uses a different way of syndrome computation, thereby mitigating the error propagation problem.\n",
    "\n",
    "> Shor Error Correction scheme achieves fault-tolerance by modifying the theoretical implementation, readers can refer to [1], [4] for more details. Since *Shor error correction is rather laborious, requiring many extra gates and a low physical error rate to work well* [1], we choose to elaborate another scheme, Stean Error Correction, in this tutorial.\n",
    "\n",
    "### 6.1 Steane Code as a CSS Code\n",
    "\n",
    "A CSS Code $[[n, k_1 - k_2]]$ is constructed from two classical dual codes $C_1$ and $C_2$ where 1) $C_1$ and $C_2$ are $[n, k_1]$, $[n, k_2]$ classical linear codes, 2) $C_2 \\subset C_1$, and 3) $C_1$ and $C_2^\\bot$ each can correct errors of weight at most $t$. E.g. Steane Code is a $[[7, 1]]$ CSS Code constructed from $[7, 4]$ and $[7, 3]$ classical Hamming codes.\n",
    "\n",
    "The codewords of a CSS code are of the form \n",
    "\n",
    "$$\n",
    "\\frac{1}{\\sqrt{|C_2|}} \\sum_{w \\in C_2^\\bot} |u + w\\rangle\n",
    "$$\n",
    "\n",
    "where $u \\in C_1$ reveals the logical codeword encoded the state. Thus, if we were to measure every qubits of the codeword, we will get the classical result $u + w$ for a random $w \\in C_2^\\bot$. In case of errors, the result will be $u + w + e$ where $e$ represents the type of errors. Since $u + w \\in C_1$ is a classical codeword, we can apply the classical syndrome computation to detect errors by multiplying the parity check matrix and the result.\n",
    "\n",
    "Steane Error Correction exploits this property that quantum errors can be transformed to classical errors for CSS codes.\n",
    "\n",
    "### 6.2 Steane Error Correction Scheme\n",
    "\n",
    "For gates between two qubits, we can define its *transversal* gate between two blocks of qubits. A transversal gate is constructed by applying the original gate between corresponding qubits of the two blocks. E.g. The transversal CNOT between two blocks of 3 qubit each, $|q_{0-2}\\rangle$ to $|a_{0-2}\\rangle$, is defined as:\n",
    "\n",
    "<div>\n",
    "    <img src=\"img/transversal.png\" width=\"10%\" style=\"width: 10%; margin: 15px auto 15px auto;\"/>\n",
    "</div>\n",
    "\n",
    "where CNOT is performed between $\\left(|q_0\\rangle, |a_0\\rangle\\right)$, $\\left(|q_1\\rangle, |a_1\\rangle\\right)$ and $\\left(|q_2\\rangle, |a_2\\rangle\\right)$.\n",
    "\n",
    "The circuit of Steane Error Correction is shown as follows.\n",
    "\n",
    "<div>\n",
    "    <img src=\"img/steane.png\" width=\"60%\" style=\"width: 60%; margin: 15px auto 15px auto;\"/>\n",
    "</div>\n",
    "\n",
    "$|q_{0-6}\\rangle$ and $|a_{0-6}\\rangle$ each is a block of 7 qubits, and the CNOT in the circuit are transversal CNOT between the two blocks. H, Measure and C are applied to every qubit in the block.\n",
    "\n",
    "Similar to the theoretical implementation, Steane Error Correction detects and corrects bit flip errors and phase flip errors separately. The left part of the circuit is used to deal with bit flip errors and the right part is for phase flip errors.\n",
    "\n",
    "For bit flip errors, we first prepare a logical $|\\overline{+}\\rangle$ state for the ancilla block (A logical $|\\overline{+}\\rangle$ state is a $|+\\rangle$ state encoded by Steane Code) and perform transversal CNOT from the codeword to the ancilla block. The transversal CNOT is used to propagate bit flip errors from the codeword to the ancilla qubits. Then we measure the ancilla qubits and treat the result as a classical codeword in $C_1$. We perform the classical syndrome computation $\\cal{M}_c$, deduce the location of errors and then correct it on the codeword ($\\cal{C}$).\n",
    "\n",
    "For phase flip errors, we prepare a logical $|\\overline{0}\\rangle$ state and perform a similar correction procedure.\n",
    "\n",
    "The reason why such scheme is fault-tolerant lies in the use of transversal CNOT gates. We explain from the view of error propagation.\n",
    "\n",
    "First, except for the transversal CNOT gates, all other operations are single qubit operations, which means that errors taking place during the operation can only affect the qubit itself, but not other qubits. Thus, single qubit operations will not propagate errors.\n",
    "\n",
    "Second, transversal CNOT gates are performed between corresponding qubits of two blocks, and more importantly, within each block, no qubit are used twice. Even errors are propagated to the other block via CNOT operations, only one qubit within each block will be affected. This is vital because we perform error correction at the granularity of block, and single qubit errors in a block can be corrected by Steane Code. In contrast, the ancilla qubits in the theoretical implementation are used in multiple CNOT operations, and thus errors can be spread to multiple qubits within one block using the common ancilla qubits as bridge.\n",
    "\n",
    "Readers can refer to [1] and [2] fore more details.\n",
    "\n",
    "### 6.3 Fault-tolerant State Preparation\n",
    "\n",
    "Unlike the theoretical implementation where the initial state of ancilla qubits is $|0\\rangle$, we need logical $|\\overline{+}\\rangle$ and $|\\overline{0}\\rangle$ to initialize the ancilla qubits in the Steane Error Correction scheme. As we see before, the encoding operation involves many two qubit operations so that a single error during encoding may cause many qubit errors in the final codeword. If we use wrong initial states for ancilla qubits, it may not only perform a wrong error correction but also destroy the information stored in the computational qubits.\n",
    "\n",
    "Therefore, we need fault-tolerant state preparation for these ancilla qubits.\n",
    "\n",
    "There are many ways for fault-tolerant state preparation, and Gottesman proposed a *trial-and-error* method which reuses the above error correction procedure [1].\n",
    "\n",
    "1. We first prepare the target state (e.g. the logical $|\\overline{+}\\rangle$) using the encoding function.\n",
    "2. Then we perform the above error correction procedure on the prepared state, but we use the procedure only to find if there is any error in the prepared state, not to correct it.\n",
    "3. If we find any error, we simply discard the prepared state and repeat the above steps until no error is detected.\n",
    "\n",
    "Note that, in step 2, since we reuse the same error correction procedure, we also need to prepare initial states for the ancilla qubits. But for this time, we simply use the encoding function to prepare these states and do no further verification. We explain the reason as follows.\n",
    "\n",
    "Detecting with unverified ancilla qubits may get wrong results, but in order for a wrong prepared state to pass the detection, we need correlated errors both on the prepared states and the ancilla qubits, and these errors must take place in a *right* way that they succeed to hide themselves in the syndrome.\n",
    "\n",
    "### 6.4 Implement using Q# #\n",
    "\n",
    "We then detail how to implement the Steane Error Correction shceme using Q#. Readers can refer to `FTEC.qs` file for the complete codes.\n",
    "\n",
    "The whole procedure is defined as below:"
   ]
  },
  {
   "cell_type": "code",
   "execution_count": null,
   "metadata": {},
   "outputs": [],
   "source": [
    "operation FTSteaneEC(codeword : LogicalRegister) : Unit {\n",
    "    let (encode, decode, syndMeasX, syndMeasZ) = (SteaneCode())!; // Only for encode\n",
    "    \n",
    "    // For bit flip errors\n",
    "    using (ancillaQubits = Qubit[7]) {\n",
    "        // Prepare initial state for ancilla qubits in a fault-tolerant way\n",
    "        let ancilla = FTStatePreparation(BFE_StatePrepare, encode, ancillaQubits);\n",
    "        // Syndrome computation\n",
    "        let syndrome = BFE_Detect(codeword, ancilla);\n",
    "        // Mapping and error correcting\n",
    "        BFE_Correct(codeword, syndrome);\n",
    "    }\n",
    "\n",
    "    // For phase flip errors\n",
    "    using (ancillaQubits = Qubit[7]) {\n",
    "        let ancilla = FTStatePreparation(PFE_StatePrepare, encode, ancillaQubits);\n",
    "        let syndrome = PFE_Detect(codeword, ancilla);\n",
    "        PFE_Correct(codeword, syndrome);\n",
    "    }\n",
    "}"
   ]
  },
  {
   "cell_type": "markdown",
   "metadata": {},
   "source": [
    "We will next detail `BFE_StatePrepare`, `BFE_Detect` and `BFE_Correct` in turn and leave `FTStatePreparation` to the end. Since the routines for phase flip errors are similar to those for bit flip errors, we omit them here for brevity.\n",
    "\n",
    "`BFE_StatePrepare` prepares initial states in a non-fault-tolerant way, and it uses the `encode` operation from Q# library."
   ]
  },
  {
   "cell_type": "code",
   "execution_count": null,
   "metadata": {},
   "outputs": [],
   "source": [
    "operation BFE_StatePrepare(encode : EncodeOp, ancillaQubits : Qubit[]) : LogicalRegister {\n",
    "    // For logical |+> state\n",
    "    H(ancillaQubits[0]);\n",
    "    return encode!([ancillaQubits[0]], ancillaQubits[1..6]);\n",
    "}"
   ]
  },
  {
   "cell_type": "markdown",
   "metadata": {},
   "source": [
    "`BFE_Detect` implements the fault-tolerant syndrome computation logic."
   ]
  },
  {
   "cell_type": "code",
   "execution_count": null,
   "metadata": {},
   "outputs": [],
   "source": [
    "operation BFE_Detect(codeword : LogicalRegister, ancilla : LogicalRegister) : Syndrome {\n",
    "    // Transversal CNOT from codeword to ancilla qubits\n",
    "    for (i in IndexRange(codeword!)) {\n",
    "        CNOT(codeword![i], ancilla![i]);\n",
    "    }\n",
    "\n",
    "    // Measure ancilla qubits to get a classical codeword\n",
    "    let results = ForEach(MResetZ, ancilla!);\n",
    "    let ccodeword = ResultArrayAsInt(results);\n",
    "\n",
    "    // Compute the syndrome by multiplying the parity check matrix with the classical codeword\n",
    "    let parity = SteaneCodeParity();   // `SteaneCodeParity` returns the parity check matrix\n",
    "    let syndrome = Mapped(ParityCheck(_, ccodeword), parity);  // Multiply each row of the matrix with the classical codeword\n",
    "\n",
    "    return Syndrome(syndrome);\n",
    "}"
   ]
  },
  {
   "cell_type": "markdown",
   "metadata": {},
   "source": [
    "`BFE_Correct` corrects bit flip errors according to the syndrome, and it uses the `SteaneCodeRecoveryX` operation from Q# library for the mapping."
   ]
  },
  {
   "cell_type": "code",
   "execution_count": null,
   "metadata": {},
   "outputs": [],
   "source": [
    "operation BFE_Correct(codeword : LogicalRegister, syndrome : Syndrome) : Unit {\n",
    "    // Mapping from the syndrome to error correcting operations (Mc)\n",
    "    let recoverOp = SteaneCodeRecoveryZ(syndrome);\n",
    "    // Correcting bit flip errors (C)\n",
    "    ApplyPauli(recoverOp, codeword!);\n",
    "}"
   ]
  },
  {
   "cell_type": "markdown",
   "metadata": {},
   "source": [
    "We then detail the fault-tolerant state preparation `FTStatePreparation`. For generalization, `FTStatePreparation` isolates the states to prepare by accepting a `statePrepare` operation (e.g. `BFE_StatePrepare`) as input."
   ]
  },
  {
   "cell_type": "code",
   "execution_count": null,
   "metadata": {},
   "outputs": [],
   "source": [
    "operation FTStatePreparation(statePrepare : ((EncodeOp, Qubit[]) => LogicalRegister), encode : EncodeOp, ancillaQubits : Qubit[]) : LogicalRegister {\n",
    "    mutable satisfied = true;\n",
    "    repeat {\n",
    "        // Step 1: We first prepare the target state using the given `statePrepare` operation\n",
    "        let ancilla = statePrepare(encode, ancillaQubits);\n",
    "        \n",
    "        // Step 2: We detect if any errors in the prepared state.\n",
    "        // The detection reuses the error correction procedure.\n",
    "        using (auxQubits = Qubit[7]) {\n",
    "            // Ancilla qubits used to assist detection are prepared in a non-fault-tolerant way.\n",
    "            let aux = BFE_StatePrepare(encode, auxQubits);\n",
    "            let syndrome = BFE_Detect(ancilla, aux);\n",
    "            set satisfied = satisfied and isNoError(syndrome);\n",
    "        }\n",
    "\n",
    "        using (auxQubits = Qubit[7]) {\n",
    "            let aux = PFE_StatePrepare(encode, auxQubits);\n",
    "            let syndrome = PFE_Detect(ancilla, aux);\n",
    "            set satisfied = satisfied and isNoError(syndrome);\n",
    "        }\n",
    "        \n",
    "    } until (satisfied)\n",
    "    fixup {\n",
    "        // Step 3: If any error, we discard the prepared state and repeat.\n",
    "        ResetAll(ancillaQubits);\n",
    "        set satisfied = true;\n",
    "    }\n",
    "    return LogicalRegister(ancillaQubits);\n",
    "}"
   ]
  },
  {
   "cell_type": "markdown",
   "metadata": {},
   "source": [
    "We prepare all the above codes in the workspace, readers can verify its correctness by correcting the same bit flip error as we did in the previous example."
   ]
  },
  {
   "cell_type": "code",
   "execution_count": 1,
   "metadata": {},
   "outputs": [
    {
     "data": {
      "application/json": "[\"FTEC._DetectCSS\",\"FTEC._RecoverCSS\",\"FTEC.ApplyError\",\"FTEC.BFE_Correct\",\"FTEC.BFE_Detect\",\"FTEC.BFE_StatePrepare\",\"FTEC.BinaryArrayAsInt\",\"FTEC.FTStatePreparation\",\"FTEC.FTSteaneEC\",\"FTEC.FTSteaneEC_ForVerification\",\"FTEC.isNoError\",\"FTEC.ParityCheck\",\"FTEC.PFE_Correct\",\"FTEC.PFE_Detect\",\"FTEC.PFE_StatePrepare\",\"FTEC.SteaneCodeParity\",\"FTEC.TheoreticalSteaneEC\",\"FTEC.Verify\",\"FTEC.VerifyEC\"]",
      "text/html": [
       "<ul><li>FTEC._DetectCSS</li><li>FTEC._RecoverCSS</li><li>FTEC.ApplyError</li><li>FTEC.BFE_Correct</li><li>FTEC.BFE_Detect</li><li>FTEC.BFE_StatePrepare</li><li>FTEC.BinaryArrayAsInt</li><li>FTEC.FTStatePreparation</li><li>FTEC.FTSteaneEC</li><li>FTEC.FTSteaneEC_ForVerification</li><li>FTEC.isNoError</li><li>FTEC.ParityCheck</li><li>FTEC.PFE_Correct</li><li>FTEC.PFE_Detect</li><li>FTEC.PFE_StatePrepare</li><li>FTEC.SteaneCodeParity</li><li>FTEC.TheoreticalSteaneEC</li><li>FTEC.Verify</li><li>FTEC.VerifyEC</li></ul>"
      ],
      "text/plain": [
       "FTEC._DetectCSS, FTEC._RecoverCSS, FTEC.ApplyError, FTEC.BFE_Correct, FTEC.BFE_Detect, FTEC.BFE_StatePrepare, FTEC.BinaryArrayAsInt, FTEC.FTStatePreparation, FTEC.FTSteaneEC, FTEC.FTSteaneEC_ForVerification, FTEC.isNoError, FTEC.ParityCheck, FTEC.PFE_Correct, FTEC.PFE_Detect, FTEC.PFE_StatePrepare, FTEC.SteaneCodeParity, FTEC.TheoreticalSteaneEC, FTEC.Verify, FTEC.VerifyEC"
      ]
     },
     "execution_count": 1,
     "metadata": {},
     "output_type": "execute_result"
    }
   ],
   "source": [
    "%workspace"
   ]
  },
  {
   "cell_type": "code",
   "execution_count": 2,
   "metadata": {},
   "outputs": [
    {
     "data": {
      "application/json": "[\"FTErrorCorrection\"]",
      "text/html": [
       "<ul><li>FTErrorCorrection</li></ul>"
      ],
      "text/plain": [
       "FTErrorCorrection"
      ]
     },
     "execution_count": 2,
     "metadata": {},
     "output_type": "execute_result"
    }
   ],
   "source": [
    "open Microsoft.Quantum.Math;\n",
    "open Microsoft.Quantum.ErrorCorrection;\n",
    "operation FTErrorCorrection() : Unit {\n",
    "    using ((data, auxQubits) = (Qubit(), Qubit[6])) {\n",
    "        // Prepare and encode\n",
    "        Rx(PI() / 3.0, data);\n",
    "        \n",
    "        let code = SteaneCode();\n",
    "        let (encode, decode, syndMeasX, syndMeasZ) = code!;\n",
    "        let codeword = encode!([data], auxQubits);\n",
    "        \n",
    "        // Introduce the same bit flip error on the 3rd qubit\n",
    "        X(codeword![2]);\n",
    "        \n",
    "        // !!! Perform fault-tolerant Steane Error Correction\n",
    "        FTEC.FTSteaneEC(codeword);\n",
    "        \n",
    "        // Decode and check\n",
    "        let (decodedData, decodedAux) = decode!(codeword);\n",
    "        \n",
    "        Adjoint Rx(PI() / 3.0, data);\n",
    "        Assert([PauliZ], [data], Zero, \"State doesn't return to |0>\");\n",
    "    }\n",
    "}"
   ]
  },
  {
   "cell_type": "code",
   "execution_count": 3,
   "metadata": {},
   "outputs": [
    {
     "data": {
      "application/json": "{\"@type\":\"tuple\"}",
      "text/plain": [
       "()"
      ]
     },
     "execution_count": 3,
     "metadata": {},
     "output_type": "execute_result"
    }
   ],
   "source": [
    "%simulate FTErrorCorrection"
   ]
  },
  {
   "cell_type": "markdown",
   "metadata": {},
   "source": [
    "## 7. Verification\n",
    "\n",
    "Now, let us verify that the Steane Error Correction scheme satisfies all the fault-tolerant requirements, i.e, **EC 1, 2, 3, 4**.\n",
    "\n",
    "To perform verification, we need to introduce *errors of weight at most 1* during error correction, which requires us to design a faulty simulator.\n",
    "\n",
    "### 7.1 Faulty Simulator\n",
    "\n",
    "There are two requirements for our faulty simulator:\n",
    "\n",
    "1. Errors of weight at most 1 mean that errors can only occur during single qubit operations. Two-qubit operations (e.g. CNOT) are not allowed to have errors because they will propagate the error and amplify 1 weight errors to 2 weight errors.\n",
    "2. Since the total weight of errors during error correction is no more than 1, and an error has weight at least 1, we can only introduce at most one error in the whole procedure.\n",
    "\n",
    "Then, we will present three key points in the implementation, readers can refer to `FaultySimulator.cs` for the complete codes.\n",
    "\n",
    "**1. Faulty single qubit gates are defined by inheriting and overriding corresponding gate implementations**\n",
    "\n",
    "The single gates used in the error correction procedure is H, X and Z. We create a new faulty gate for each of them by inheriting the original implementation. We introduce errors by overriding the original single qubit operation.\n",
    "\n",
    "For example, we define a new `H` class inherited from the error-free implementation `QSimH` and override the `Body` function."
   ]
  },
  {
   "cell_type": "code",
   "execution_count": null,
   "metadata": {},
   "outputs": [],
   "source": [
    "// C#\n",
    "\n",
    "// `QSimH` is the original error-free implementation of H gate\n",
    "public class H : QSimH {\n",
    "    private FaultySimulator sim;\n",
    "    public H(FaultySimulator m) : base(m) { sim = m; }\n",
    "\n",
    "    // Single qubit operation of H\n",
    "    public override Func<Qubit, QVoid> Body {\n",
    "        get {\n",
    "            // Get the original operation\n",
    "            Func<Qubit, QVoid> original = base.Body;\n",
    "\n",
    "            return (qubit => {\n",
    "                // Apply error\n",
    "                if (sim.isErrorHappened()) sim.applyError(qubit);\n",
    "                // and perform the original operation\n",
    "                return original(qubit);\n",
    "            });\n",
    "        }\n",
    "    }\n",
    "} // class H"
   ]
  },
  {
   "cell_type": "markdown",
   "metadata": {},
   "source": [
    "**2. Errors are defined as Pauli errors**\n",
    "\n",
    "We randomly choose to apply X or Z Pauli errors."
   ]
  },
  {
   "cell_type": "code",
   "execution_count": null,
   "metadata": {},
   "outputs": [],
   "source": [
    "// Apply a Pauli error to `qubit`\n",
    "void applyError(Qubit qubit) {\n",
    "    double p = rnd.NextDouble();\n",
    "    if (p < 0.5) {\n",
    "        // X error\n",
    "        QSimX x = new QSimX(this);\n",
    "        x.Body(qubit);\n",
    "    } else {\n",
    "        // Z error\n",
    "        QSimZ z = new QSimZ(this);\n",
    "        z.Body(qubit);\n",
    "    }\n",
    "}"
   ]
  },
  {
   "cell_type": "markdown",
   "metadata": {},
   "source": [
    "**3. Control messages are used to to enable/disable the faulty mechanism**\n",
    "\n",
    "We use `Message` with certain content `FaultyEnabled` and `FaultyDisabled` to enable and disable the faulty mechanism.\n",
    "\n",
    "All operations after `FaultyEnabled` may suffer from at most one single qubit error (according to the above two requirements). And all operations after `FaultyDisabled` is error-free.\n",
    "\n",
    "The usage is shown as below:"
   ]
  },
  {
   "cell_type": "code",
   "execution_count": null,
   "metadata": {},
   "outputs": [],
   "source": [
    "operation AnOperation() : Unit {\n",
    "    Message(\"FaultyEnabled\");\n",
    "    // Operations here may suffer from a single qubit error\n",
    "    Message(\"FaultyDisabled\");\n",
    "    // Operations here are error-free\n",
    "}"
   ]
  },
  {
   "cell_type": "markdown",
   "metadata": {},
   "source": [
    "Now, we design a verification framework using the faulty simulator.\n",
    "\n",
    "### 7.2 Verification Framework\n",
    "\n",
    "The verification framework is based on the single qubit error correction example in previous sections except that we introduce three control points `errorInInput`, `errorDuringEC` and `isTypeA` according to the requirement table shown as below.\n",
    "\n",
    "| Requirement | ErrorInInput | ErrorDuringEC | Type |\n",
    "|-------------|--------------|---------------|------|\n",
    "| EC 1        | 1            | 1             | A    |\n",
    "| EC 2        | 0            | 0             | B    |\n",
    "| EC 3        | 1            | 0             | B    |\n",
    "| EC 4        | 0            | 1             | B    |\n",
    "\n",
    "The verification procedure is:\n",
    "\n",
    "1. Create a input codeword by encoding a single qubit with a non-trivial state using Steane Code.\n",
    "2. Apply an error to the input codeword if there should be one (Control point 1: `errorInInput`).\n",
    "3. Perform the fault-tolerant error correction with/without the faulty mechanism (Control point 2: `errorDuringEC`).\n",
    "4. Check the final state according to the type of the requirement (Control point 3: `isTypeA`).\n",
    "5. Repeat 100 times and count how many times the verification fails.\n",
    "\n",
    "The detail is shown as below:"
   ]
  },
  {
   "cell_type": "code",
   "execution_count": null,
   "metadata": {},
   "outputs": [],
   "source": [
    "operation Verify(errorInInput : Bool, errorDuringEC : Bool, isTypeA : Bool) : Unit {\n",
    "    // Perform verification 100 times and count how many times the verification fails.\n",
    "    let N = 100;\n",
    "    mutable nFail = 0;\n",
    "\n",
    "    for (i in 0..N-1) {\n",
    "        using ((data, auxQubits) = (Qubit(), Qubit[6])) {\n",
    "            // Construct a non-trivial state as input\n",
    "            Rx(PI() / 3.0, data);\n",
    "\n",
    "            let code = SteaneCode();\n",
    "            let (encode, decode, syndMeasX, syndMeasZ) = code!;\n",
    "            let codeword = encode!([data], auxQubits);\n",
    "            \n",
    "            // Control point 1\n",
    "            if (errorInInput) { ApplyError(codeword![1]); }\n",
    "            \n",
    "            // Control point 2: Enable the faulty mechanism according to errorDuringEC.\n",
    "            if (errorDuringEC) { Message(\"FaultyEnabled\"); }\n",
    "            FTSteaneEC_ForVarifaction(codeword, errorDuringEC);\n",
    "            if (errorDuringEC) { Message(\"FaultyDisabled\"); }\n",
    "            \n",
    "            // Control point 3\n",
    "            mutable noError = true;\n",
    "            if (isTypeA) {\n",
    "                // According to Type A, the final codeword is near a valid codeword \n",
    "                // but it is not necessarily the original one.\n",
    "                // Thus, we only check the validity of the codeword.\n",
    "                \n",
    "                // 1-filter can be implemented as a detection after correcting one single qubit error.\n",
    "                TheoreticalSteaneEC(codeword);\n",
    "                set noError = _DetectCSS(code, codeword);\n",
    "            } else {\n",
    "                // According to Type B, the final state after an ideal decoder should be the original one\n",
    "                \n",
    "                // Ideal decoder\n",
    "                TheoreticalSteaneEC(codeword);\n",
    "                let (decodedData, decodedAux) = decode!(codeword);\n",
    "                \n",
    "                // Check if it is the original state\n",
    "                Adjoint Rx(PI() / 3.0, data);\n",
    "                set noError = (M(data) == Zero);\n",
    "            }\n",
    "\n",
    "            if (not noError) {\n",
    "                set nFail = nFail + 1;\n",
    "            }\n",
    "\n",
    "            ResetAll([data] + auxQubits);\n",
    "        }\n",
    "\n",
    "        if (i != 0 and i % 10 == 0) {\n",
    "            Message($\"[{i} / {N}] Fail Ratio: {IntAsDouble(nFail) / IntAsDouble(i)}\");\n",
    "        }\n",
    "    }\n",
    "    Message($\"Total Fail Ratio: {IntAsDouble(nFail) / IntAsDouble(N)}\");\n",
    "}"
   ]
  },
  {
   "cell_type": "markdown",
   "metadata": {},
   "source": [
    "There is one more thing to clarify. In the original paper, they prove that the Steane Error Correction scheme is fault-tolerant under the assumption that the initial states of ancilla qubits are prepared without any error. The verification may fail if there are errors containing in the initial states, thus we verify with `FTSteaneEC_ForVarifaction` which replaces the fault-tolerant state preparation with perfect state preparation.\n",
    "\n",
    "Readers can run the complete verification under `verification` folder by\n",
    "\n",
    "```\n",
    "dotnet run\n",
    "```\n",
    "\n",
    "We show the output as follow:"
   ]
  },
  {
   "cell_type": "code",
   "execution_count": null,
   "metadata": {},
   "outputs": [],
   "source": [
    "[Verify EC1] errorInInput : true, errorDuringEC : true, isTypeA : true\n",
    "[10 / 100] Fail Ratio: 0\n",
    "[20 / 100] Fail Ratio: 0\n",
    "[30 / 100] Fail Ratio: 0\n",
    "[40 / 100] Fail Ratio: 0\n",
    "[50 / 100] Fail Ratio: 0\n",
    "[60 / 100] Fail Ratio: 0\n",
    "[70 / 100] Fail Ratio: 0\n",
    "[80 / 100] Fail Ratio: 0\n",
    "[90 / 100] Fail Ratio: 0\n",
    "Total Fail Ratio: 0\n",
    "[Verify EC2] errorInInput : false, errorDuringEC : false, isTypeA : false\n",
    "[10 / 100] Fail Ratio: 0\n",
    "[20 / 100] Fail Ratio: 0\n",
    "[30 / 100] Fail Ratio: 0\n",
    "[40 / 100] Fail Ratio: 0\n",
    "[50 / 100] Fail Ratio: 0\n",
    "[60 / 100] Fail Ratio: 0\n",
    "[70 / 100] Fail Ratio: 0\n",
    "[80 / 100] Fail Ratio: 0\n",
    "[90 / 100] Fail Ratio: 0\n",
    "Total Fail Ratio: 0\n",
    "[Verify EC3] errorInInput : false, errorDuringEC : true, isTypeA : false\n",
    "[10 / 100] Fail Ratio: 0\n",
    "[20 / 100] Fail Ratio: 0\n",
    "[30 / 100] Fail Ratio: 0\n",
    "[40 / 100] Fail Ratio: 0\n",
    "[50 / 100] Fail Ratio: 0\n",
    "[60 / 100] Fail Ratio: 0\n",
    "[70 / 100] Fail Ratio: 0\n",
    "[80 / 100] Fail Ratio: 0\n",
    "[90 / 100] Fail Ratio: 0\n",
    "Total Fail Ratio: 0\n",
    "[Verify EC4] errorInInput : true, errorDuringEC : false, isTypeA : false\n",
    "[10 / 100] Fail Ratio: 0\n",
    "[20 / 100] Fail Ratio: 0\n",
    "[30 / 100] Fail Ratio: 0\n",
    "[40 / 100] Fail Ratio: 0\n",
    "[50 / 100] Fail Ratio: 0\n",
    "[60 / 100] Fail Ratio: 0\n",
    "[70 / 100] Fail Ratio: 0\n",
    "[80 / 100] Fail Ratio: 0\n",
    "[90 / 100] Fail Ratio: 0\n",
    "Total Fail Ratio: 0"
   ]
  },
  {
   "cell_type": "markdown",
   "metadata": {},
   "source": [
    "We can see that Steane Error Correction scheme passes all the verification."
   ]
  },
  {
   "cell_type": "markdown",
   "metadata": {},
   "source": [
    "## 8. Further Exploration\n",
    "\n",
    "### 8.1 A More Realistic Faulty Simulator\n",
    "\n",
    "We have prepared a more realistic faulty simulator by relaxing the constraints in the verification.\n",
    "\n",
    "First, we allow errors in two-qubit operations. Second, errors can occur in a local and Markov manner [3] rather than only once.\n",
    "\n",
    "We compare the Steane Error Correction Scheme and the theoretical implementation using the new simulator. Readers can find the codes in `exploration` folder.\n",
    "\n",
    "The following shows the result of one run. We can see that `FTSteaneEC` has a lower fail ratio than `TheoreticalSteaneEC`."
   ]
  },
  {
   "cell_type": "code",
   "execution_count": null,
   "metadata": {},
   "outputs": [],
   "source": [
    "TheoreticalSteaneEC\n",
    "[10 / 100] Fail Ratio: 0.2\n",
    "[20 / 100] Fail Ratio: 0.2\n",
    "[30 / 100] Fail Ratio: 0.16666666666666666\n",
    "[40 / 100] Fail Ratio: 0.175\n",
    "[50 / 100] Fail Ratio: 0.22\n",
    "[60 / 100] Fail Ratio: 0.2\n",
    "[70 / 100] Fail Ratio: 0.2\n",
    "[80 / 100] Fail Ratio: 0.2\n",
    "[90 / 100] Fail Ratio: 0.2111111111111111\n",
    "Total Fail Ratio: 0.22\n",
    "FTSteaneEC\n",
    "[10 / 100] Fail Ratio: 0\n",
    "[20 / 100] Fail Ratio: 0.05\n",
    "[30 / 100] Fail Ratio: 0.03333333333333333\n",
    "[40 / 100] Fail Ratio: 0.025\n",
    "[50 / 100] Fail Ratio: 0.04\n",
    "[60 / 100] Fail Ratio: 0.05\n",
    "[70 / 100] Fail Ratio: 0.05714285714285714\n",
    "[80 / 100] Fail Ratio: 0.0625\n",
    "[90 / 100] Fail Ratio: 0.05555555555555555\n",
    "Total Fail Ratio: 0.06"
   ]
  },
  {
   "cell_type": "markdown",
   "metadata": {},
   "source": [
    "### 8.2 References\n",
    "\n",
    "The following materials are referred to when writing the tutorial:\n",
    "\n",
    "- [1] Daniel Gottesman. An introduction to quantum error correction and fault-tolerant quantum computation.\n",
    "- [2] Andrew Steane. Active stabilisation, quantum computation and quantum state synthesis.\n",
    "- [3] Eleanor Rieffel and Wolfgang Polak. Quantum Computing - A Gentle Introduction.\n",
    "- [4] Michael Nielsen and Isaac Chuang. Quantum Computation and Quantum Information."
   ]
  }
 ],
 "metadata": {
  "kernelspec": {
   "display_name": "Q#",
   "language": "qsharp",
   "name": "iqsharp"
  },
  "language_info": {
   "file_extension": ".qs",
   "mimetype": "text/x-qsharp",
   "name": "qsharp",
   "version": "0.4"
  }
 },
 "nbformat": 4,
 "nbformat_minor": 4
}
